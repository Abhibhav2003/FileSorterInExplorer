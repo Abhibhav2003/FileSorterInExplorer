{
 "cells": [
  {
   "cell_type": "markdown",
   "metadata": {},
   "source": [
    "## Automatic File Sorter In File Explorer"
   ]
  },
  {
   "cell_type": "code",
   "execution_count": 1,
   "metadata": {},
   "outputs": [],
   "source": [
    "import os, shutil"
   ]
  },
  {
   "cell_type": "code",
   "execution_count": 4,
   "metadata": {},
   "outputs": [],
   "source": [
    "path = r\"C:/Users/hp/Dropbox/PC/Desktop/DataScience/Files/\" # with 'r' the path is read as raw string"
   ]
  },
  {
   "cell_type": "code",
   "execution_count": 7,
   "metadata": {},
   "outputs": [],
   "source": [
    "file_name = os.listdir(path) "
   ]
  },
  {
   "cell_type": "code",
   "execution_count": 19,
   "metadata": {},
   "outputs": [
    {
     "data": {
      "text/plain": [
       "['Abc.txt',\n",
       " 'chloramphenicol-chemical-structure-vector-24173762.jpg',\n",
       " 'CovidDeaths.csv',\n",
       " 'csv files',\n",
       " 'image files',\n",
       " 'text files']"
      ]
     },
     "execution_count": 19,
     "metadata": {},
     "output_type": "execute_result"
    }
   ],
   "source": [
    "file_name"
   ]
  },
  {
   "cell_type": "code",
   "execution_count": 21,
   "metadata": {},
   "outputs": [],
   "source": [
    "def Sort_Func(list_):\n",
    "   for loop in range(0,len(list_)):\n",
    "      if not os.path.exists(path + list_[loop]):\n",
    "         os.makedirs((path + list_[loop])) \n",
    "\n",
    "   for file in file_name:\n",
    "        if \".csv\" in file and not os.path.exists(path + \"csv files/\" + file):\n",
    "            shutil.move(path + file , path + \"csv files/\")\n",
    "        elif \".jpg\" in file and not os.path.exists(path + \"image files/\" + file):\n",
    "            shutil.move(path + file , path + \"image files/\")\n",
    "        elif \".txt\" in file and not os.path.exists(path + \"text files/\" + file):\n",
    "             shutil.move(path + file , path + \"text files/\")"
   ]
  },
  {
   "cell_type": "code",
   "execution_count": 17,
   "metadata": {},
   "outputs": [],
   "source": [
    "folder_names = ['csv files','image files','text files']"
   ]
  },
  {
   "cell_type": "code",
   "execution_count": 22,
   "metadata": {},
   "outputs": [],
   "source": [
    "Sort_Func(folder_names)"
   ]
  },
  {
   "cell_type": "code",
   "execution_count": null,
   "metadata": {},
   "outputs": [],
   "source": []
  },
  {
   "cell_type": "code",
   "execution_count": null,
   "metadata": {},
   "outputs": [],
   "source": []
  }
 ],
 "metadata": {
  "kernelspec": {
   "display_name": "Python 3",
   "language": "python",
   "name": "python3"
  },
  "language_info": {
   "codemirror_mode": {
    "name": "ipython",
    "version": 3
   },
   "file_extension": ".py",
   "mimetype": "text/x-python",
   "name": "python",
   "nbconvert_exporter": "python",
   "pygments_lexer": "ipython3",
   "version": "3.11.4"
  }
 },
 "nbformat": 4,
 "nbformat_minor": 2
}
